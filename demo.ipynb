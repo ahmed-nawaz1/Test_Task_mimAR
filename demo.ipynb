{
  "cells": [
    {
      "cell_type": "markdown",
      "metadata": {
        "id": "6bEJ4mx57y_S"
      },
      "source": [
        "## A simple demostration of how to run"
      ]
    },
    {
      "cell_type": "code",
      "execution_count": 1,
      "metadata": {
        "id": "vJN736Ua7y_U",
        "outputId": "c5759110-7d8e-4b85-dec6-20d06d33cdde",
        "colab": {
          "base_uri": "https://localhost:8080/",
          "height": 383
        }
      },
      "outputs": [
        {
          "output_type": "error",
          "ename": "ModuleNotFoundError",
          "evalue": "No module named 'FaceBoxes'",
          "traceback": [
            "\u001b[0;31m---------------------------------------------------------------------------\u001b[0m",
            "\u001b[0;31mModuleNotFoundError\u001b[0m                       Traceback (most recent call last)",
            "\u001b[0;32m/tmp/ipython-input-452590833.py\u001b[0m in \u001b[0;36m<cell line: 0>\u001b[0;34m()\u001b[0m\n\u001b[1;32m      5\u001b[0m \u001b[0;32mimport\u001b[0m \u001b[0myaml\u001b[0m\u001b[0;34m\u001b[0m\u001b[0;34m\u001b[0m\u001b[0m\n\u001b[1;32m      6\u001b[0m \u001b[0;34m\u001b[0m\u001b[0m\n\u001b[0;32m----> 7\u001b[0;31m \u001b[0;32mfrom\u001b[0m \u001b[0mFaceBoxes\u001b[0m \u001b[0;32mimport\u001b[0m \u001b[0mFaceBoxes\u001b[0m\u001b[0;34m\u001b[0m\u001b[0;34m\u001b[0m\u001b[0m\n\u001b[0m\u001b[1;32m      8\u001b[0m \u001b[0;32mfrom\u001b[0m \u001b[0mTDDFA\u001b[0m \u001b[0;32mimport\u001b[0m \u001b[0mTDDFA\u001b[0m\u001b[0;34m\u001b[0m\u001b[0;34m\u001b[0m\u001b[0m\n\u001b[1;32m      9\u001b[0m \u001b[0;32mfrom\u001b[0m \u001b[0mutils\u001b[0m\u001b[0;34m.\u001b[0m\u001b[0mfunctions\u001b[0m \u001b[0;32mimport\u001b[0m \u001b[0mdraw_landmarks\u001b[0m\u001b[0;34m\u001b[0m\u001b[0;34m\u001b[0m\u001b[0m\n",
            "\u001b[0;31mModuleNotFoundError\u001b[0m: No module named 'FaceBoxes'",
            "",
            "\u001b[0;31m---------------------------------------------------------------------------\u001b[0;32m\nNOTE: If your import is failing due to a missing package, you can\nmanually install dependencies using either !pip or !apt.\n\nTo view examples of installing some common dependencies, click the\n\"Open Examples\" button below.\n\u001b[0;31m---------------------------------------------------------------------------\u001b[0m\n"
          ],
          "errorDetails": {
            "actions": [
              {
                "action": "open_url",
                "actionText": "Open Examples",
                "url": "/notebooks/snippets/importing_libraries.ipynb"
              }
            ]
          }
        }
      ],
      "source": [
        "# before import, make sure FaceBoxes and Sim3DR are built successfully, e.g.,\n",
        "# sh build.sh\n",
        "\n",
        "import cv2\n",
        "import yaml\n",
        "\n",
        "from FaceBoxes import FaceBoxes\n",
        "from TDDFA import TDDFA\n",
        "from utils.functions import draw_landmarks\n",
        "from utils.render import render\n",
        "from utils.depth import depth\n",
        "\n",
        "import matplotlib.pyplot as plt"
      ]
    },
    {
      "cell_type": "code",
      "source": [
        "!git clone https://github.com/cleardusk/3DDFA_V2.git\n",
        "%cd 3DDFA_V2\n",
        "!pip install -r requirements.txt\n",
        "!bash ./build.sh\n"
      ],
      "metadata": {
        "id": "bYTNijsQ8L5-"
      },
      "execution_count": null,
      "outputs": []
    },
    {
      "cell_type": "markdown",
      "metadata": {
        "id": "cdvh3Qpk7y_W"
      },
      "source": [
        "### Load configs"
      ]
    },
    {
      "cell_type": "code",
      "execution_count": null,
      "metadata": {
        "id": "5eVA5feQ7y_X"
      },
      "outputs": [],
      "source": [
        "# load config\n",
        "cfg = yaml.load(open('configs/mb1_120x120.yml'), Loader=yaml.SafeLoader)\n",
        "\n",
        "# Init FaceBoxes and TDDFA, recommend using onnx flag\n",
        "onnx_flag = True  # or True to use ONNX to speed up\n",
        "if onnx_flag:\n",
        "    import os\n",
        "    os.environ['KMP_DUPLICATE_LIB_OK'] = 'True'\n",
        "    os.environ['OMP_NUM_THREADS'] = '4'\n",
        "\n",
        "    from FaceBoxes.FaceBoxes_ONNX import FaceBoxes_ONNX\n",
        "    from TDDFA_ONNX import TDDFA_ONNX\n",
        "\n",
        "    face_boxes = FaceBoxes_ONNX()\n",
        "    tddfa = TDDFA_ONNX(**cfg)\n",
        "else:\n",
        "    tddfa = TDDFA(gpu_mode=False, **cfg)\n",
        "    face_boxes = FaceBoxes()"
      ]
    },
    {
      "cell_type": "code",
      "execution_count": null,
      "metadata": {
        "id": "s2C5mevd7y_Y"
      },
      "outputs": [],
      "source": [
        "# given an image path\n",
        "img_fp = 'examples/inputs/emma.jpg'\n",
        "img = cv2.imread(img_fp)\n",
        "plt.imshow(img[..., ::-1])"
      ]
    },
    {
      "cell_type": "markdown",
      "metadata": {
        "id": "G4_vV5SK7y_Z"
      },
      "source": [
        "### Detect faces using FaceBoxes"
      ]
    },
    {
      "cell_type": "code",
      "execution_count": null,
      "metadata": {
        "id": "6gjCcrDh7y_a"
      },
      "outputs": [],
      "source": [
        "# face detection\n",
        "boxes = face_boxes(img)\n",
        "print(f'Detect {len(boxes)} faces')\n",
        "print(boxes)"
      ]
    },
    {
      "cell_type": "markdown",
      "metadata": {
        "id": "cbRe4DbO7y_b"
      },
      "source": [
        "### Regressing 3DMM parameters, reconstruction and visualization"
      ]
    },
    {
      "cell_type": "code",
      "execution_count": null,
      "metadata": {
        "id": "eXDJ1l__7y_d"
      },
      "outputs": [],
      "source": [
        "# regress 3DMM params\n",
        "param_lst, roi_box_lst = tddfa(img, boxes)"
      ]
    },
    {
      "cell_type": "code",
      "execution_count": null,
      "metadata": {
        "id": "DFVBVPLt7y_f"
      },
      "outputs": [],
      "source": [
        "# reconstruct vertices and visualizing sparse landmarks\n",
        "dense_flag = False\n",
        "ver_lst = tddfa.recon_vers(param_lst, roi_box_lst, dense_flag=dense_flag)\n",
        "draw_landmarks(img, ver_lst, dense_flag=dense_flag)"
      ]
    },
    {
      "cell_type": "code",
      "execution_count": null,
      "metadata": {
        "id": "Z9tw98vQ7y_h"
      },
      "outputs": [],
      "source": [
        "# reconstruct vertices and visualizing dense landmarks\n",
        "dense_flag = True\n",
        "ver_lst = tddfa.recon_vers(param_lst, roi_box_lst, dense_flag=dense_flag)\n",
        "draw_landmarks(img, ver_lst, dense_flag=dense_flag)"
      ]
    },
    {
      "cell_type": "code",
      "execution_count": null,
      "metadata": {
        "id": "Q-1YdUnx7y_i"
      },
      "outputs": [],
      "source": [
        "# reconstruct vertices and render\n",
        "ver_lst = tddfa.recon_vers(param_lst, roi_box_lst, dense_flag=dense_flag)\n",
        "render(img, ver_lst, tddfa.tri, alpha=0.6, show_flag=True);"
      ]
    },
    {
      "cell_type": "code",
      "execution_count": null,
      "metadata": {
        "id": "paMS1yYw7y_i"
      },
      "outputs": [],
      "source": [
        "# reconstruct vertices and render depth\n",
        "ver_lst = tddfa.recon_vers(param_lst, roi_box_lst, dense_flag=dense_flag)\n",
        "depth(img, ver_lst, tddfa.tri, show_flag=True);"
      ]
    }
  ],
  "metadata": {
    "kernelspec": {
      "display_name": "Python 3",
      "language": "python",
      "name": "python3"
    },
    "language_info": {
      "codemirror_mode": {
        "name": "ipython",
        "version": 3
      },
      "file_extension": ".py",
      "mimetype": "text/x-python",
      "name": "python",
      "nbconvert_exporter": "python",
      "pygments_lexer": "ipython3",
      "version": "3.8.5"
    },
    "colab": {
      "provenance": []
    }
  },
  "nbformat": 4,
  "nbformat_minor": 0
}